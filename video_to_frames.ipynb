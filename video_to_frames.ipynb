{
 "cells": [
  {
   "cell_type": "markdown",
   "metadata": {},
   "source": [
    "# Converting video to frames"
   ]
  },
  {
   "cell_type": "code",
   "execution_count": 1,
   "metadata": {},
   "outputs": [],
   "source": [
    "import pandas as pd\n",
    "import numpy as np\n",
    "import cv2\n"
   ]
  },
  {
   "cell_type": "code",
   "execution_count": 5,
   "metadata": {},
   "outputs": [],
   "source": [
    "def convert_video_to_frames(filename,output_folder_path):\n",
    "    vidcap = cv2.VideoCapture(filename)\n",
    "\n",
    "    def getFrame(sec):\n",
    "        vidcap.set(cv2.CAP_PROP_POS_MSEC,sec*1000)\n",
    "        hasFrames,image = vidcap.read()\n",
    "        if hasFrames:\n",
    "            path = output_folder_path\n",
    "            cv2.imwrite(os.path.join(path , f'frame{str(count)}.jpg'), image)\n",
    "        return hasFrames\n",
    "\n",
    "    sec = 0\n",
    "    frameRate = 1 #//it will capture image in each 0.5 second\n",
    "    count=1\n",
    "    success = getFrame(sec)\n",
    "    while success:\n",
    "        count = count + 1\n",
    "        sec = sec + frameRate\n",
    "        sec = round(sec, 2)\n",
    "        success = getFrame(sec)"
   ]
  },
  {
   "cell_type": "code",
   "execution_count": 7,
   "metadata": {},
   "outputs": [
    {
     "name": "stdout",
     "output_type": "stream",
     "text": [
      "7\n",
      "6\n",
      "4\n",
      "5\n",
      "2\n",
      "3\n",
      "10\n",
      "8\n",
      "9\n"
     ]
    }
   ],
   "source": [
    "actualvideos = [i for i in os.listdir('./data/videos2') if '.mp4' in i or '.mov' in i] \n",
    "\n",
    "for file in actualvideos:\n",
    "    folder_name = file.replace('.mp4', '').replace('.mov', '')\n",
    "    print(folder_name)\n",
    "    \n",
    "    new_location =  f'./data/videos2/{folder_name}'\n",
    "    \n",
    "    # create new directory per file\n",
    "    os.mkdir(new_location)\n",
    "\n",
    "    # create `frames` folder and place frame in there\n",
    "    os.rename(f'./data/videos2/{file}', new_location + f'/{file}') ## rename = mv\n",
    "    os.mkdir(new_location + '/frames')\n",
    "    convert_video_to_frames(filename = new_location + f'/{file}', output_folder_path = new_location + '/frames')\n"
   ]
  },
  {
   "cell_type": "markdown",
   "metadata": {},
   "source": []
  },
  {
   "cell_type": "code",
   "execution_count": null,
   "metadata": {},
   "outputs": [],
   "source": []
  }
 ],
 "metadata": {
  "interpreter": {
   "hash": "31f2aee4e71d21fbe5cf8b01ff0e069b9275f58929596ceb00d14d90e3e16cd6"
  },
  "kernelspec": {
   "display_name": "Python 3.8.9 64-bit",
   "language": "python",
   "name": "python3"
  },
  "language_info": {
   "codemirror_mode": {
    "name": "ipython",
    "version": 3
   },
   "file_extension": ".py",
   "mimetype": "text/x-python",
   "name": "python",
   "nbconvert_exporter": "python",
   "pygments_lexer": "ipython3",
   "version": "3.7.11"
  },
  "orig_nbformat": 4
 },
 "nbformat": 4,
 "nbformat_minor": 2
}
